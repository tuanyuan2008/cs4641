{
  "nbformat": 4,
  "nbformat_minor": 0,
  "metadata": {
    "colab": {
      "name": "randomized-optimization.ipynb",
      "version": "0.3.2",
      "provenance": [],
      "collapsed_sections": [],
      "include_colab_link": true
    },
    "kernelspec": {
      "name": "python3",
      "display_name": "Python 3"
    }
  },
  "cells": [
    {
      "cell_type": "markdown",
      "metadata": {
        "id": "view-in-github",
        "colab_type": "text"
      },
      "source": [
        "<a href=\"https://colab.research.google.com/github/tuanyuan2008/cs4641/blob/master/randomized-optimization/randomized_optimization.ipynb\" target=\"_parent\"><img src=\"https://colab.research.google.com/assets/colab-badge.svg\" alt=\"Open In Colab\"/></a>"
      ]
    },
    {
      "metadata": {
        "id": "rIB39KJxnM-s",
        "colab_type": "code",
        "colab": {
          "base_uri": "https://localhost:8080/",
          "height": 102
        },
        "outputId": "10e23c42-c73f-402e-c7d5-96ec26696888"
      },
      "cell_type": "code",
      "source": [
        "! pip3 install mlrose\n",
        "\n",
        "import mlrose\n",
        "import numpy as np\n",
        "import matplotlib.pyplot as plt"
      ],
      "execution_count": 25,
      "outputs": [
        {
          "output_type": "stream",
          "text": [
            "Requirement already satisfied: mlrose in /usr/local/lib/python3.6/dist-packages (1.0.1)\n",
            "Requirement already satisfied: scipy in /usr/local/lib/python3.6/dist-packages (from mlrose) (1.1.0)\n",
            "Requirement already satisfied: sklearn in /usr/local/lib/python3.6/dist-packages (from mlrose) (0.0)\n",
            "Requirement already satisfied: numpy in /usr/local/lib/python3.6/dist-packages (from mlrose) (1.14.6)\n",
            "Requirement already satisfied: scikit-learn in /usr/local/lib/python3.6/dist-packages (from sklearn->mlrose) (0.20.2)\n"
          ],
          "name": "stdout"
        }
      ]
    },
    {
      "metadata": {
        "id": "U8ev3iZNpHAz",
        "colab_type": "text"
      },
      "cell_type": "markdown",
      "source": [
        "$N$-Queens Problem\n",
        "============="
      ]
    },
    {
      "metadata": {
        "id": "cbp-CoXpnvC4",
        "colab_type": "text"
      },
      "cell_type": "markdown",
      "source": [
        "The following is a custom fitness function that represents pairs of non-attacking queens. For $n$ queens, we have max fitness = $\\binom{n}{2}$."
      ]
    },
    {
      "metadata": {
        "id": "Bgvd4iWRnOUZ",
        "colab_type": "code",
        "colab": {}
      },
      "cell_type": "code",
      "source": [
        "# Define alternative N-Queens fitness function for maximization problem\n",
        "def queens_max(state):\n",
        "    \n",
        "    # Initialize counter\n",
        "    fitness = 0\n",
        "    \n",
        "    # For all pairs of queens\n",
        "    for i in range(len(state) - 1):\n",
        "        for j in range(i + 1, len(state)):\n",
        "            \n",
        "            # Check for horizontal, diagonal-up and diagonal-down attacks\n",
        "            if (state[j] != state[i]) \\\n",
        "                and (state[j] != state[i] + (j - i)) \\\n",
        "                and (state[j] != state[i] - (j - i)):\n",
        "                \n",
        "                # If no attacks, then increment counter\n",
        "                fitness += 1\n",
        "\n",
        "    return fitness"
      ],
      "execution_count": 0,
      "outputs": []
    },
    {
      "metadata": {
        "id": "AQGF2Miho67r",
        "colab_type": "text"
      },
      "cell_type": "markdown",
      "source": [
        "Simulated Annealing\n",
        "----------"
      ]
    },
    {
      "metadata": {
        "id": "jXaZLLtTqegX",
        "colab_type": "text"
      },
      "cell_type": "markdown",
      "source": [
        "The $N-$Queens problem is an example of a discrete-state optimization problem, since each of the elements of the state vector must take on an integer value in the range $0$ to $N-1$. To tune parameters, let's start with the standard $8\\times8$ checkerboard. The maximum fitness in this case is $\\binom{8}{2}=28$."
      ]
    },
    {
      "metadata": {
        "id": "AUiVD6cGngo_",
        "colab_type": "code",
        "colab": {}
      },
      "cell_type": "code",
      "source": [
        "  fitness_cust = mlrose.CustomFitness(queens_max)\n",
        "  problem = mlrose.DiscreteOpt(length = 8, fitness_fn = fitness_cust,\n",
        "                           maximize = True, max_val = 8)"
      ],
      "execution_count": 0,
      "outputs": []
    },
    {
      "metadata": {
        "id": "O7OH_Aaszg-S",
        "colab_type": "text"
      },
      "cell_type": "markdown",
      "source": [
        "A schedule object specifies how the simulated annealing temperature parameter changes over time."
      ]
    },
    {
      "metadata": {
        "id": "8sfw8-2LngHe",
        "colab_type": "code",
        "colab": {}
      },
      "cell_type": "code",
      "source": [
        "  # Define decay schedules\n",
        "  schedule = mlrose.GeomDecay()"
      ],
      "execution_count": 0,
      "outputs": []
    },
    {
      "metadata": {
        "id": "x-89Jf-snWLr",
        "colab_type": "code",
        "colab": {}
      },
      "cell_type": "code",
      "source": [
        "  # Define initial state\n",
        "  init_state = np.array([0, 1, 2, 3, 4, 5, 6, 7])\n",
        "\n",
        "  # Set random seed\n",
        "  np.random.seed(1)"
      ],
      "execution_count": 0,
      "outputs": []
    },
    {
      "metadata": {
        "id": "sStADRXxugkt",
        "colab_type": "text"
      },
      "cell_type": "markdown",
      "source": [
        "Let's initialize $\\texttt{max_attempts}$, the number of attempts the algorithm should make to find a “better” state at each step, to $10$, and $\\texttt{max_iters}$, the maximum number of iterations the algorithm should run for overall, to $100$. We'll tune these parameters later."
      ]
    },
    {
      "metadata": {
        "id": "nQFYePUZqYbI",
        "colab_type": "code",
        "colab": {
          "base_uri": "https://localhost:8080/",
          "height": 34
        },
        "outputId": "4cecb494-67d5-49db-990b-d10101856890"
      },
      "cell_type": "code",
      "source": [
        "def tune_schedule(schedule):\n",
        "  fit_scores = []\n",
        "\n",
        "  for i in range(50):\n",
        "    best_state, best_fitness = mlrose.simulated_annealing(problem, schedule = schedule,\n",
        "                                                          max_attempts = 10, max_iters = 1000,\n",
        "                                                          init_state = init_state)\n",
        "  #   print('Iteration ', str(i))\n",
        "  #   print('The best state found is: ', best_state)\n",
        "  #   print('The fitness at the best state is: ', best_fitness)\n",
        "  #   print('\\n')\n",
        "\n",
        "    fit_scores.append(best_fitness)\n",
        "\n",
        "  return 'The average fitness is '+ str(sum(fit_scores) / 50) + ' for ' + str(schedule) + '.'\n",
        "\n",
        "print(tune_schedule(schedule))"
      ],
      "execution_count": 21,
      "outputs": [
        {
          "output_type": "stream",
          "text": [
            "The average fitness is 25.76 for <mlrose.decay.GeomDecay object at 0x7f795278ed30>.\n"
          ],
          "name": "stdout"
        }
      ]
    },
    {
      "metadata": {
        "id": "Vonz4f7ttXTa",
        "colab_type": "text"
      },
      "cell_type": "markdown",
      "source": [
        "We can see if using an exponential decay schedule or an arithmetic decay schedule produces better results.\n",
        "\n",
        "<!-- With the geometric decay schedule, we obtained a fitness score of $27/28$, meaning there exists only one pair of two queens that are attacking each other. Upon further examination, we notice that this attack occurs on row $5$. -->"
      ]
    },
    {
      "metadata": {
        "id": "BfXs_oFWtEUt",
        "colab_type": "code",
        "colab": {
          "base_uri": "https://localhost:8080/",
          "height": 51
        },
        "outputId": "42b8ed82-29de-4009-f42f-fe5c630cc6ff"
      },
      "cell_type": "code",
      "source": [
        "schedule = mlrose.ExpDecay()\n",
        "print(tune_schedule(schedule))\n",
        "\n",
        "schedule = mlrose.ArithDecay()\n",
        "print(tune_schedule(schedule))"
      ],
      "execution_count": 23,
      "outputs": [
        {
          "output_type": "stream",
          "text": [
            "The average fitness is 25.94 for <mlrose.decay.ExpDecay object at 0x7f79520da0b8>.\n",
            "The average fitness is 25.62 for <mlrose.decay.ArithDecay object at 0x7f797bb52e80>.\n"
          ],
          "name": "stdout"
        }
      ]
    },
    {
      "metadata": {
        "id": "HO0MmGi3tRfC",
        "colab_type": "text"
      },
      "cell_type": "markdown",
      "source": [
        "It seems that each of the three schedules produces a similar fitness score, with the geometric decay schedule achieving a marginally higher score. Now, let's tune for the $\\texttt{max_attempts}$ parameter."
      ]
    },
    {
      "metadata": {
        "id": "5WXiSOG2tIOc",
        "colab_type": "code",
        "colab": {
          "base_uri": "https://localhost:8080/",
          "height": 393
        },
        "outputId": "fa07d1b6-2f66-4c02-b28e-13fd9044bef1"
      },
      "cell_type": "code",
      "source": [
        "attempts = range(10, 110, 10)\n",
        "\n",
        "best_score = 0\n",
        "best_score_index = -1\n",
        "\n",
        "fit_scores = [0] * len(attempts)\n",
        "\n",
        "for i, a in enumerate(attempts):\n",
        "  best_state, best_fitness = mlrose.simulated_annealing(problem, schedule = schedule,\n",
        "                                                        max_attempts = a, max_iters = 1000,\n",
        "                                                        init_state = init_state)\n",
        "#   print('Iteration ', str(i))\n",
        "#   print('The best state found is: ', best_state)\n",
        "#   print('The fitness at the best state is: ', best_fitness)\n",
        "#   print('\\n')\n",
        "\n",
        "  fit_scores[i] = best_fitness\n",
        "\n",
        "  if best_fitness > best_score:\n",
        "    best_score = best_fitness\n",
        "    best_score_index = (i + 1) * 10\n",
        "\n",
        "plt.plot(fit_scores)\n",
        "\n",
        "plt.title(\"Fitness at Various # of Attempts\")\n",
        "plt.xlabel(\"# (Attempts - 10) % 10\")\n",
        "plt.ylabel(\"Fitness Score\")\n",
        "plt.show()\n",
        "\n",
        "print('The maximum fitness score of ' + str(best_score) + ' is obtained in ' + str(best_score_index) + ' attempts.')"
      ],
      "execution_count": 50,
      "outputs": [
        {
          "output_type": "display_data",
          "data": {
            "image/png": "[encoded data removed]",
            "text/plain": [
              "<Figure size 576x396 with 1 Axes>"
            ]
          },
          "metadata": {
            "tags": []
          }
        },
        {
          "output_type": "stream",
          "text": [
            "The maximum fitness score of 27.0 is obtained in 80 attempts.\n"
          ],
          "name": "stdout"
        }
      ]
    },
    {
      "metadata": {
        "id": "edQX-k9OBXKo",
        "colab_type": "text"
      },
      "cell_type": "markdown",
      "source": [
        "Using these values for our parameters, we can now observe the effect that modifying  $\\texttt{max_iter}$ has on our fitness score."
      ]
    },
    {
      "metadata": {
        "id": "H5TXj7qz78iV",
        "colab_type": "code",
        "colab": {
          "base_uri": "https://localhost:8080/",
          "height": 393
        },
        "outputId": "3d21e2c2-c4cb-42cc-8486-813ed32e09e2"
      },
      "cell_type": "code",
      "source": [
        "iters = range(10, 10000, 100)\n",
        "\n",
        "def tune_iters(iters, best_score_index):\n",
        "  best_score = 0\n",
        "  best_score_ind = -1\n",
        "  \n",
        "  fit_scores = [0] * len(iters)\n",
        "\n",
        "  for i, a in enumerate(iters):\n",
        "    best_state, best_fitness = mlrose.simulated_annealing(problem, schedule = schedule,\n",
        "                                                          max_attempts = best_score_index, max_iters = a,\n",
        "                                                          init_state = init_state)\n",
        "  #   print('Iteration ', str(i))\n",
        "  #   print('The best state found is: ', best_state)\n",
        "  #   print('The fitness at the best state is: ', best_fitness)\n",
        "  #   print('\\n')\n",
        "\n",
        "    fit_scores[i] = best_fitness\n",
        "    \n",
        "    if best_fitness > best_score:\n",
        "      best_score = best_fitness\n",
        "      best_score_ind = i * 100 + 10\n",
        "\n",
        "  plt.plot(fit_scores)\n",
        "\n",
        "  plt.title(\"Fitness at Various # of Iterations\")\n",
        "  plt.xlabel(\"# (Iters - 10) % 100\")\n",
        "  plt.ylabel(\"Fitness Score\")\n",
        "  plt.show()\n",
        "  \n",
        "  print('The maximum fitness score of ' + str(best_score) + ' is obtained in ' + str(best_score_ind) + ' attempts.')\n",
        "  \n",
        "  return fit_scores\n",
        "  \n",
        "tune_iters(iters, best_score_index)"
      ],
      "execution_count": 55,
      "outputs": [
        {
          "output_type": "display_data",
          "data": {
            "image/png": "[encoded data removed]",
            "text/plain": [
              "<Figure size 576x396 with 1 Axes>"
            ]
          },
          "metadata": {
            "tags": []
          }
        },
        {
          "output_type": "stream",
          "text": [
            "The maximum fitness score of 28.0 is obtained in 2710 attempts.\n"
          ],
          "name": "stdout"
        }
      ]
    },
    {
      "metadata": {
        "id": "Q692XrdqUNdY",
        "colab_type": "text"
      },
      "cell_type": "markdown",
      "source": [
        "Now, as we've been working with only $8$ queens, let's see how well this search technique generalizes for the $N$-Queens problem. We'll test values of $N$ up to $25$ queens."
      ]
    },
    {
      "metadata": {
        "id": "asEnHLRJLBb4",
        "colab_type": "code",
        "colab": {}
      },
      "cell_type": "code",
      "source": [
        ""
      ],
      "execution_count": 0,
      "outputs": []
    }
  ]
}